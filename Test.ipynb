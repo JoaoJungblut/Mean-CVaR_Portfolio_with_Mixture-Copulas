{
 "cells": [
  {
   "cell_type": "code",
   "execution_count": 33,
   "metadata": {},
   "outputs": [],
   "source": [
    "import pandas as pd\n",
    "import numpy as np\n",
    "import matplotlib.pyplot as plt\n",
    "import statsmodels as sm \n",
    "\n",
    "pd.set_option('display.max_rows', 10)\n",
    "pd.set_option('display.max_columns', 5)\n",
    "pd.set_option('display.width', 100)"
   ]
  },
  {
   "cell_type": "code",
   "execution_count": 43,
   "metadata": {},
   "outputs": [
    {
     "data": {
      "text/html": [
       "<div>\n",
       "<style scoped>\n",
       "    .dataframe tbody tr th:only-of-type {\n",
       "        vertical-align: middle;\n",
       "    }\n",
       "\n",
       "    .dataframe tbody tr th {\n",
       "        vertical-align: top;\n",
       "    }\n",
       "\n",
       "    .dataframe thead th {\n",
       "        text-align: right;\n",
       "    }\n",
       "</style>\n",
       "<table border=\"1\" class=\"dataframe\">\n",
       "  <thead>\n",
       "    <tr style=\"text-align: right;\">\n",
       "      <th></th>\n",
       "      <th>Ticker</th>\n",
       "      <th>AdjClose</th>\n",
       "    </tr>\n",
       "  </thead>\n",
       "  <tbody>\n",
       "    <tr>\n",
       "      <th>0</th>\n",
       "      <td>VALE3</td>\n",
       "      <td>NaN</td>\n",
       "    </tr>\n",
       "    <tr>\n",
       "      <th>1</th>\n",
       "      <td>VALE3</td>\n",
       "      <td>0.633733</td>\n",
       "    </tr>\n",
       "    <tr>\n",
       "      <th>2</th>\n",
       "      <td>VALE3</td>\n",
       "      <td>0.633733</td>\n",
       "    </tr>\n",
       "    <tr>\n",
       "      <th>3</th>\n",
       "      <td>VALE3</td>\n",
       "      <td>0.622210</td>\n",
       "    </tr>\n",
       "    <tr>\n",
       "      <th>4</th>\n",
       "      <td>VALE3</td>\n",
       "      <td>0.610688</td>\n",
       "    </tr>\n",
       "  </tbody>\n",
       "</table>\n",
       "</div>"
      ],
      "text/plain": [
       "  Ticker  AdjClose\n",
       "0  VALE3       NaN\n",
       "1  VALE3  0.633733\n",
       "2  VALE3  0.633733\n",
       "3  VALE3  0.622210\n",
       "4  VALE3  0.610688"
      ]
     },
     "execution_count": 43,
     "metadata": {},
     "output_type": "execute_result"
    }
   ],
   "source": [
    "# Fetch data\n",
    "# OBSERVATION: CSIP6 was removed from data due to impossibility of found data\n",
    "Ret = pd.read_excel(\"data_directory/StockPrice.xlsx\", index_col=0, parse_dates=True, skiprows=[0]).ffill()\n",
    "Ret.index.name = \"date\"\n",
    "Ret.index = pd.to_datetime(Ret.index)\n",
    "Ret = pd.melt(Ret, var_name='Ticker', value_name='AdjClose')\n",
    "Ret.head()"
   ]
  },
  {
   "cell_type": "code",
   "execution_count": 27,
   "metadata": {},
   "outputs": [
    {
     "ename": "TypeError",
     "evalue": "loop of ufunc does not support argument 0 of type float which has no callable log method",
     "output_type": "error",
     "traceback": [
      "\u001b[1;31m---------------------------------------------------------------------------\u001b[0m",
      "\u001b[1;31mAttributeError\u001b[0m                            Traceback (most recent call last)",
      "\u001b[1;31mAttributeError\u001b[0m: 'float' object has no attribute 'log'",
      "\nThe above exception was the direct cause of the following exception:\n",
      "\u001b[1;31mTypeError\u001b[0m                                 Traceback (most recent call last)",
      "\u001b[1;32md:\\ARQUIVOS\\Documents\\GitHub\\Mean-CVaR_Portfolio_with_Mixture-Copulas\\Test.ipynb Cell 2\u001b[0m line \u001b[0;36m8\n\u001b[0;32m      <a href='vscode-notebook-cell:/d%3A/ARQUIVOS/Documents/GitHub/Mean-CVaR_Portfolio_with_Mixture-Copulas/Test.ipynb#W1sZmlsZQ%3D%3D?line=5'>6</a>\u001b[0m Ret \u001b[39m=\u001b[39m Ret\u001b[39m.\u001b[39mdrop(\u001b[39m'\u001b[39m\u001b[39mdata\u001b[39m\u001b[39m'\u001b[39m, axis\u001b[39m=\u001b[39m\u001b[39m1\u001b[39m)\n\u001b[0;32m      <a href='vscode-notebook-cell:/d%3A/ARQUIVOS/Documents/GitHub/Mean-CVaR_Portfolio_with_Mixture-Copulas/Test.ipynb#W1sZmlsZQ%3D%3D?line=6'>7</a>\u001b[0m Ret\u001b[39m.\u001b[39mloc[:, \u001b[39m'\u001b[39m\u001b[39mVALE3\u001b[39m\u001b[39m'\u001b[39m:\u001b[39m'\u001b[39m\u001b[39mWHMT3\u001b[39m\u001b[39m'\u001b[39m] \u001b[39m=\u001b[39m Ret\u001b[39m.\u001b[39mloc[:, \u001b[39m'\u001b[39m\u001b[39mVALE3\u001b[39m\u001b[39m'\u001b[39m:\u001b[39m'\u001b[39m\u001b[39mWHMT3\u001b[39m\u001b[39m'\u001b[39m]\u001b[39m.\u001b[39mapply(pd\u001b[39m.\u001b[39mto_numeric, errors\u001b[39m=\u001b[39m\u001b[39m'\u001b[39m\u001b[39mcoerce\u001b[39m\u001b[39m'\u001b[39m)\n\u001b[1;32m----> <a href='vscode-notebook-cell:/d%3A/ARQUIVOS/Documents/GitHub/Mean-CVaR_Portfolio_with_Mixture-Copulas/Test.ipynb#W1sZmlsZQ%3D%3D?line=7'>8</a>\u001b[0m Ret \u001b[39m=\u001b[39m np\u001b[39m.\u001b[39mlog(Ret\u001b[39m.\u001b[39mloc[:, \u001b[39m'\u001b[39m\u001b[39mVALE3\u001b[39m\u001b[39m'\u001b[39m:\u001b[39m'\u001b[39m\u001b[39mWHMT3\u001b[39m\u001b[39m'\u001b[39m])\u001b[39m.\u001b[39mdiff()\n\u001b[0;32m      <a href='vscode-notebook-cell:/d%3A/ARQUIVOS/Documents/GitHub/Mean-CVaR_Portfolio_with_Mixture-Copulas/Test.ipynb#W1sZmlsZQ%3D%3D?line=8'>9</a>\u001b[0m \u001b[39m#Ret = pd.melt(Ret, var_name='Ticker', value_name='AdjClose').dropna() \u001b[39;00m\n\u001b[0;32m     <a href='vscode-notebook-cell:/d%3A/ARQUIVOS/Documents/GitHub/Mean-CVaR_Portfolio_with_Mixture-Copulas/Test.ipynb#W1sZmlsZQ%3D%3D?line=9'>10</a>\u001b[0m \u001b[39m#Ret['Ret'] = np.log(Ret['Adj Close'] / Ret.groupby('Ticker')['Adj Close'].shift(1))\u001b[39;00m\n\u001b[0;32m     <a href='vscode-notebook-cell:/d%3A/ARQUIVOS/Documents/GitHub/Mean-CVaR_Portfolio_with_Mixture-Copulas/Test.ipynb#W1sZmlsZQ%3D%3D?line=10'>11</a>\u001b[0m \u001b[39m#Ret = Ret[['date', 'Ticker', 'Ret']]\u001b[39;00m\n\u001b[0;32m     <a href='vscode-notebook-cell:/d%3A/ARQUIVOS/Documents/GitHub/Mean-CVaR_Portfolio_with_Mixture-Copulas/Test.ipynb#W1sZmlsZQ%3D%3D?line=11'>12</a>\u001b[0m \u001b[39m#Ret = Ret.pivot(index='date', columns='Ticker', values='Ret').fillna(0)\u001b[39;00m\n\u001b[0;32m     <a href='vscode-notebook-cell:/d%3A/ARQUIVOS/Documents/GitHub/Mean-CVaR_Portfolio_with_Mixture-Copulas/Test.ipynb#W1sZmlsZQ%3D%3D?line=13'>14</a>\u001b[0m \u001b[39mprint\u001b[39m(Ret)\n",
      "File \u001b[1;32mc:\\ProgramData\\anaconda3\\Lib\\site-packages\\pandas\\core\\generic.py:2102\u001b[0m, in \u001b[0;36mNDFrame.__array_ufunc__\u001b[1;34m(self, ufunc, method, *inputs, **kwargs)\u001b[0m\n\u001b[0;32m   2098\u001b[0m \u001b[39m@final\u001b[39m\n\u001b[0;32m   2099\u001b[0m \u001b[39mdef\u001b[39;00m \u001b[39m__array_ufunc__\u001b[39m(\n\u001b[0;32m   2100\u001b[0m     \u001b[39mself\u001b[39m, ufunc: np\u001b[39m.\u001b[39mufunc, method: \u001b[39mstr\u001b[39m, \u001b[39m*\u001b[39minputs: Any, \u001b[39m*\u001b[39m\u001b[39m*\u001b[39mkwargs: Any\n\u001b[0;32m   2101\u001b[0m ):\n\u001b[1;32m-> 2102\u001b[0m     \u001b[39mreturn\u001b[39;00m arraylike\u001b[39m.\u001b[39marray_ufunc(\u001b[39mself\u001b[39m, ufunc, method, \u001b[39m*\u001b[39minputs, \u001b[39m*\u001b[39m\u001b[39m*\u001b[39mkwargs)\n",
      "File \u001b[1;32mc:\\ProgramData\\anaconda3\\Lib\\site-packages\\pandas\\core\\arraylike.py:404\u001b[0m, in \u001b[0;36marray_ufunc\u001b[1;34m(self, ufunc, method, *inputs, **kwargs)\u001b[0m\n\u001b[0;32m    399\u001b[0m \u001b[39mif\u001b[39;00m method \u001b[39m==\u001b[39m \u001b[39m\"\u001b[39m\u001b[39m__call__\u001b[39m\u001b[39m\"\u001b[39m \u001b[39mand\u001b[39;00m \u001b[39mnot\u001b[39;00m kwargs:\n\u001b[0;32m    400\u001b[0m     \u001b[39m# for np.<ufunc>(..) calls\u001b[39;00m\n\u001b[0;32m    401\u001b[0m     \u001b[39m# kwargs cannot necessarily be handled block-by-block, so only\u001b[39;00m\n\u001b[0;32m    402\u001b[0m     \u001b[39m# take this path if there are no kwargs\u001b[39;00m\n\u001b[0;32m    403\u001b[0m     mgr \u001b[39m=\u001b[39m inputs[\u001b[39m0\u001b[39m]\u001b[39m.\u001b[39m_mgr\n\u001b[1;32m--> 404\u001b[0m     result \u001b[39m=\u001b[39m mgr\u001b[39m.\u001b[39mapply(\u001b[39mgetattr\u001b[39m(ufunc, method))\n\u001b[0;32m    405\u001b[0m \u001b[39melse\u001b[39;00m:\n\u001b[0;32m    406\u001b[0m     \u001b[39m# otherwise specific ufunc methods (eg np.<ufunc>.accumulate(..))\u001b[39;00m\n\u001b[0;32m    407\u001b[0m     \u001b[39m# Those can have an axis keyword and thus can't be called block-by-block\u001b[39;00m\n\u001b[0;32m    408\u001b[0m     result \u001b[39m=\u001b[39m default_array_ufunc(inputs[\u001b[39m0\u001b[39m], ufunc, method, \u001b[39m*\u001b[39minputs, \u001b[39m*\u001b[39m\u001b[39m*\u001b[39mkwargs)\n",
      "File \u001b[1;32mc:\\ProgramData\\anaconda3\\Lib\\site-packages\\pandas\\core\\internals\\managers.py:352\u001b[0m, in \u001b[0;36mBaseBlockManager.apply\u001b[1;34m(self, f, align_keys, **kwargs)\u001b[0m\n\u001b[0;32m    349\u001b[0m             kwargs[k] \u001b[39m=\u001b[39m obj[b\u001b[39m.\u001b[39mmgr_locs\u001b[39m.\u001b[39mindexer]\n\u001b[0;32m    351\u001b[0m \u001b[39mif\u001b[39;00m \u001b[39mcallable\u001b[39m(f):\n\u001b[1;32m--> 352\u001b[0m     applied \u001b[39m=\u001b[39m b\u001b[39m.\u001b[39mapply(f, \u001b[39m*\u001b[39m\u001b[39m*\u001b[39mkwargs)\n\u001b[0;32m    353\u001b[0m \u001b[39melse\u001b[39;00m:\n\u001b[0;32m    354\u001b[0m     applied \u001b[39m=\u001b[39m \u001b[39mgetattr\u001b[39m(b, f)(\u001b[39m*\u001b[39m\u001b[39m*\u001b[39mkwargs)\n",
      "File \u001b[1;32mc:\\ProgramData\\anaconda3\\Lib\\site-packages\\pandas\\core\\internals\\blocks.py:366\u001b[0m, in \u001b[0;36mBlock.apply\u001b[1;34m(self, func, **kwargs)\u001b[0m\n\u001b[0;32m    360\u001b[0m \u001b[39m@final\u001b[39m\n\u001b[0;32m    361\u001b[0m \u001b[39mdef\u001b[39;00m \u001b[39mapply\u001b[39m(\u001b[39mself\u001b[39m, func, \u001b[39m*\u001b[39m\u001b[39m*\u001b[39mkwargs) \u001b[39m-\u001b[39m\u001b[39m>\u001b[39m \u001b[39mlist\u001b[39m[Block]:\n\u001b[0;32m    362\u001b[0m \u001b[39m    \u001b[39m\u001b[39m\"\"\"\u001b[39;00m\n\u001b[0;32m    363\u001b[0m \u001b[39m    apply the function to my values; return a block if we are not\u001b[39;00m\n\u001b[0;32m    364\u001b[0m \u001b[39m    one\u001b[39;00m\n\u001b[0;32m    365\u001b[0m \u001b[39m    \"\"\"\u001b[39;00m\n\u001b[1;32m--> 366\u001b[0m     result \u001b[39m=\u001b[39m func(\u001b[39mself\u001b[39m\u001b[39m.\u001b[39mvalues, \u001b[39m*\u001b[39m\u001b[39m*\u001b[39mkwargs)\n\u001b[0;32m    368\u001b[0m     result \u001b[39m=\u001b[39m maybe_coerce_values(result)\n\u001b[0;32m    369\u001b[0m     \u001b[39mreturn\u001b[39;00m \u001b[39mself\u001b[39m\u001b[39m.\u001b[39m_split_op_result(result)\n",
      "\u001b[1;31mTypeError\u001b[0m: loop of ufunc does not support argument 0 of type float which has no callable log method"
     ]
    }
   ],
   "source": [
    "# Fetch data\n",
    "# OBSERVATION: CSIP6 was removed from data due to impossibility of found data\n",
    "Ret = pd.read_excel(\"data_directory/StockPrice.xlsx\").iloc[:-1, :].copy()\n",
    "Ret['date'] = pd.to_datetime(Ret['data'])\n",
    "Ret.set_index(Ret['date'], inplace=True)\n",
    "Ret = Ret.drop('data', axis=1)\n",
    "Ret.loc[:, 'VALE3':'WHMT3'] = Ret.loc[:, 'VALE3':'WHMT3'].apply(pd.to_numeric, errors='coerce')\n",
    "Ret = np.log(Ret.loc[:, 'VALE3':'WHMT3']).diff()\n",
    "#Ret = pd.melt(Ret, var_name='Ticker', value_name='AdjClose').dropna() \n",
    "#Ret['Ret'] = np.log(Ret['Adj Close'] / Ret.groupby('Ticker')['Adj Close'].shift(1))\n",
    "#Ret = Ret[['date', 'Ticker', 'Ret']]\n",
    "#Ret = Ret.pivot(index='date', columns='Ticker', values='Ret').fillna(0)\n",
    "\n",
    "print(Ret)"
   ]
  }
 ],
 "metadata": {
  "kernelspec": {
   "display_name": "base",
   "language": "python",
   "name": "python3"
  },
  "language_info": {
   "codemirror_mode": {
    "name": "ipython",
    "version": 3
   },
   "file_extension": ".py",
   "mimetype": "text/x-python",
   "name": "python",
   "nbconvert_exporter": "python",
   "pygments_lexer": "ipython3",
   "version": "3.11.5"
  }
 },
 "nbformat": 4,
 "nbformat_minor": 2
}
