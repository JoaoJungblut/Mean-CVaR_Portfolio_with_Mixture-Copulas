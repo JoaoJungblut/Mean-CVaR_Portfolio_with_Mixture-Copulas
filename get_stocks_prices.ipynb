{
 "cells": [
  {
   "cell_type": "code",
   "execution_count": 53,
   "metadata": {},
   "outputs": [
    {
     "ename": "ValueError",
     "evalue": "Invalid API call. Please retry or visit the documentation (https://www.alphavantage.co/documentation/) for TIME_SERIES_DAILY_ADJUSTED.",
     "output_type": "error",
     "traceback": [
      "\u001b[1;31m---------------------------------------------------------------------------\u001b[0m",
      "\u001b[1;31mValueError\u001b[0m                                Traceback (most recent call last)",
      "Cell \u001b[1;32mIn[53], line 19\u001b[0m\n\u001b[0;32m     17\u001b[0m data_frames \u001b[39m=\u001b[39m []\n\u001b[0;32m     18\u001b[0m \u001b[39mfor\u001b[39;00m ticker \u001b[39min\u001b[39;00m tickers:\n\u001b[1;32m---> 19\u001b[0m     data, meta_data \u001b[39m=\u001b[39m ts\u001b[39m.\u001b[39;49mget_daily_adjusted(symbol\u001b[39m=\u001b[39;49mticker, outputsize\u001b[39m=\u001b[39;49m\u001b[39m'\u001b[39;49m\u001b[39mfull\u001b[39;49m\u001b[39m'\u001b[39;49m)\n\u001b[0;32m     21\u001b[0m     \u001b[39m# rename the column and select only the adjusted close price\u001b[39;00m\n\u001b[0;32m     22\u001b[0m     data \u001b[39m=\u001b[39m data[[\u001b[39m\"\u001b[39m\u001b[39m5. adjusted close\u001b[39m\u001b[39m\"\u001b[39m]]\u001b[39m.\u001b[39mrename(columns\u001b[39m=\u001b[39m{\u001b[39m\"\u001b[39m\u001b[39m5. adjusted close\u001b[39m\u001b[39m\"\u001b[39m:\u001b[39m\"\u001b[39m\u001b[39mAdj_Close\u001b[39m\u001b[39m\"\u001b[39m})\n",
      "File \u001b[1;32mc:\\Users\\joaor\\AppData\\Local\\Programs\\Python\\Python311\\Lib\\site-packages\\alpha_vantage\\alphavantage.py:218\u001b[0m, in \u001b[0;36mAlphaVantage._output_format.<locals>._format_wrapper\u001b[1;34m(self, *args, **kwargs)\u001b[0m\n\u001b[0;32m    216\u001b[0m \u001b[39m@wraps\u001b[39m(func)\n\u001b[0;32m    217\u001b[0m \u001b[39mdef\u001b[39;00m \u001b[39m_format_wrapper\u001b[39m(\u001b[39mself\u001b[39m, \u001b[39m*\u001b[39margs, \u001b[39m*\u001b[39m\u001b[39m*\u001b[39mkwargs):\n\u001b[1;32m--> 218\u001b[0m     call_response, data_key, meta_data_key \u001b[39m=\u001b[39m func(\n\u001b[0;32m    219\u001b[0m         \u001b[39mself\u001b[39;49m, \u001b[39m*\u001b[39;49margs, \u001b[39m*\u001b[39;49m\u001b[39m*\u001b[39;49mkwargs)\n\u001b[0;32m    220\u001b[0m     \u001b[39mif\u001b[39;00m \u001b[39m'\u001b[39m\u001b[39mjson\u001b[39m\u001b[39m'\u001b[39m \u001b[39min\u001b[39;00m \u001b[39mself\u001b[39m\u001b[39m.\u001b[39moutput_format\u001b[39m.\u001b[39mlower() \u001b[39mor\u001b[39;00m \u001b[39m'\u001b[39m\u001b[39mpandas\u001b[39m\u001b[39m'\u001b[39m \\\n\u001b[0;32m    221\u001b[0m             \u001b[39min\u001b[39;00m \u001b[39mself\u001b[39m\u001b[39m.\u001b[39moutput_format\u001b[39m.\u001b[39mlower():\n\u001b[0;32m    222\u001b[0m         \u001b[39mif\u001b[39;00m data_key \u001b[39mis\u001b[39;00m \u001b[39mnot\u001b[39;00m \u001b[39mNone\u001b[39;00m:\n",
      "File \u001b[1;32mc:\\Users\\joaor\\AppData\\Local\\Programs\\Python\\Python311\\Lib\\site-packages\\alpha_vantage\\alphavantage.py:160\u001b[0m, in \u001b[0;36mAlphaVantage._call_api_on_func.<locals>._call_wrapper\u001b[1;34m(self, *args, **kwargs)\u001b[0m\n\u001b[0;32m    158\u001b[0m \u001b[39melse\u001b[39;00m:\n\u001b[0;32m    159\u001b[0m     url \u001b[39m=\u001b[39m \u001b[39m'\u001b[39m\u001b[39m{}\u001b[39;00m\u001b[39m{}\u001b[39;00m\u001b[39m'\u001b[39m\u001b[39m.\u001b[39mformat(url, apikey_parameter)\n\u001b[1;32m--> 160\u001b[0m \u001b[39mreturn\u001b[39;00m \u001b[39mself\u001b[39;49m\u001b[39m.\u001b[39;49m_handle_api_call(url), data_key, meta_data_key\n",
      "File \u001b[1;32mc:\\Users\\joaor\\AppData\\Local\\Programs\\Python\\Python311\\Lib\\site-packages\\alpha_vantage\\alphavantage.py:359\u001b[0m, in \u001b[0;36mAlphaVantage._handle_api_call\u001b[1;34m(self, url)\u001b[0m\n\u001b[0;32m    356\u001b[0m     \u001b[39mraise\u001b[39;00m \u001b[39mValueError\u001b[39;00m(\n\u001b[0;32m    357\u001b[0m         \u001b[39m'\u001b[39m\u001b[39mError getting data from the api, no return was given.\u001b[39m\u001b[39m'\u001b[39m)\n\u001b[0;32m    358\u001b[0m \u001b[39melif\u001b[39;00m \u001b[39m\"\u001b[39m\u001b[39mError Message\u001b[39m\u001b[39m\"\u001b[39m \u001b[39min\u001b[39;00m json_response:\n\u001b[1;32m--> 359\u001b[0m     \u001b[39mraise\u001b[39;00m \u001b[39mValueError\u001b[39;00m(json_response[\u001b[39m\"\u001b[39m\u001b[39mError Message\u001b[39m\u001b[39m\"\u001b[39m])\n\u001b[0;32m    360\u001b[0m \u001b[39melif\u001b[39;00m \u001b[39m\"\u001b[39m\u001b[39mInformation\u001b[39m\u001b[39m\"\u001b[39m \u001b[39min\u001b[39;00m json_response \u001b[39mand\u001b[39;00m \u001b[39mself\u001b[39m\u001b[39m.\u001b[39mtreat_info_as_error:\n\u001b[0;32m    361\u001b[0m     \u001b[39mraise\u001b[39;00m \u001b[39mValueError\u001b[39;00m(json_response[\u001b[39m\"\u001b[39m\u001b[39mInformation\u001b[39m\u001b[39m\"\u001b[39m])\n",
      "\u001b[1;31mValueError\u001b[0m: Invalid API call. Please retry or visit the documentation (https://www.alphavantage.co/documentation/) for TIME_SERIES_DAILY_ADJUSTED."
     ]
    }
   ],
   "source": [
    "import pandas as pd\n",
    "import numpy as np\n",
    "from alpha_vantage.timeseries import TimeSeries\n",
    "\n",
    "# read SP500 components \n",
    "df_tickers = pd.read_csv(\"sp500_components.csv\")\n",
    "df_tickers = df_tickers.rename(columns={\"Unnamed: 0\": \"comp_index\"})\n",
    "\n",
    "# creating a list of all tickers\n",
    "melted_tickers = pd.melt(df_tickers, id_vars=\"comp_index\", var_name=\"year\", value_name=\"ticker\")\n",
    "tickers = melted_tickers[\"ticker\"].unique().tolist()\n",
    "\n",
    "# replace YOUR_API_KEY with your actual Alpha Vantage API key\n",
    "ts = TimeSeries(key='V1PFJOMDHX76TFF8', output_format='pandas')\n",
    "\n",
    "# download the adjusted close price for each ticker\n",
    "data_frames = []\n",
    "for ticker in tickers:\n",
    "    data, meta_data = ts.get_daily_adjusted(symbol=ticker, outputsize='full')\n",
    "    \n",
    "    # rename the column and select only the adjusted close price\n",
    "    data = data[[\"5. adjusted close\"]].rename(columns={\"5. adjusted close\":\"Adj_Close\"})\n",
    "    \n",
    "    # create ticker column\n",
    "    data[\"ticker\"] = ticker\n",
    "    \n",
    "    # get log-returns\n",
    "    data[\"log_rtn\"] = np.log(data[\"Adj_Close\"]).diff().fillna(0)\n",
    "    \n",
    "    # sort the index in ascending order\n",
    "    data = data.sort_index()\n",
    "    \n",
    "    # add data to data_frames list \n",
    "    data_frames.append(data)\n",
    "\n",
    "# concatenate the data frames into a single data frame\n",
    "combined_data = pd.concat(data_frames, axis=0)\n",
    "\n",
    "# print the first 5 rows of the data\n",
    "print(combined_data.head())\n",
    "\n"
   ]
  }
 ],
 "metadata": {
  "kernelspec": {
   "display_name": "base",
   "language": "python",
   "name": "python3"
  },
  "language_info": {
   "codemirror_mode": {
    "name": "ipython",
    "version": 3
   },
   "file_extension": ".py",
   "mimetype": "text/x-python",
   "name": "python",
   "nbconvert_exporter": "python",
   "pygments_lexer": "ipython3",
   "version": "3.11.1"
  },
  "orig_nbformat": 4
 },
 "nbformat": 4,
 "nbformat_minor": 2
}
