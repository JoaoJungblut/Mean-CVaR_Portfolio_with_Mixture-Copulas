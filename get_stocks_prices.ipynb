{
 "cells": [
  {
   "cell_type": "code",
   "execution_count": 1,
   "metadata": {},
   "outputs": [
    {
     "name": "stdout",
     "output_type": "stream",
     "text": [
      "AAL\n",
      "AAMRQ\n",
      "AAPL\n",
      "ABI\n",
      "ABS\n",
      "ABT\n",
      "ABX\n",
      "ACKH\n",
      "ACV\n",
      "ADM\n",
      "ADP\n",
      "            Adj_Close ticker   log_rtn\n",
      "date                                  \n",
      "2005-09-27  18.192017    AAL -0.060320\n",
      "2005-09-28  19.323127    AAL  0.014247\n",
      "2005-09-29  19.049776    AAL -0.038821\n",
      "2005-09-30  19.803849    AAL -0.023054\n",
      "2005-10-03  20.265719    AAL -0.030236\n"
     ]
    }
   ],
   "source": [
    "import pandas as pd\n",
    "import numpy as np\n",
    "import time\n",
    "from alpha_vantage.timeseries import TimeSeries\n",
    "\n",
    "# read SP500 components \n",
    "df_tickers = pd.read_csv(\"sp500_components.csv\")\n",
    "df_tickers = df_tickers.rename(columns={\"Unnamed: 0\": \"comp_index\"})\n",
    "\n",
    "# creating a list of all tickers\n",
    "melted_tickers = pd.melt(df_tickers, id_vars=\"comp_index\", var_name=\"year\", value_name=\"ticker\")\n",
    "tickers = melted_tickers[\"ticker\"].unique().tolist()\n",
    "\n",
    "# replace YOUR_API_KEY with your actual Alpha Vantage API key\n",
    "ts = TimeSeries(key='V1PFJOMDHX76TFF8', output_format='pandas')\n",
    "\n",
    "# download the adjusted close price for each ticker\n",
    "data_frames = []\n",
    "for ticker in tickers:\n",
    "    \n",
    "    print(ticker)\n",
    "    \n",
    "    try:\n",
    "        data, meta_data = ts.get_daily_adjusted(symbol=ticker, outputsize='full')\n",
    "    \n",
    "        # rename the column and select only the adjusted close price\n",
    "        data = data[[\"5. adjusted close\"]].rename(columns={\"5. adjusted close\":\"Adj_Close\"})\n",
    "    \n",
    "        # create ticker column\n",
    "        data[\"ticker\"] = ticker\n",
    "    \n",
    "        # get log-returns\n",
    "        data[\"log_rtn\"] = np.log(data[\"Adj_Close\"]).diff().fillna(0)\n",
    "    \n",
    "        # sort the index in ascending order\n",
    "        data = data.sort_index()\n",
    "    \n",
    "        # add data to data_frames list \n",
    "        data_frames.append(data)\n",
    "\n",
    "    except:\n",
    "\n",
    "        # wait 1 minute before trying again\n",
    "        time.sleep(60)\n",
    "\n",
    "# concatenate the data frames into a single data frame\n",
    "combined_data = pd.concat(data_frames, axis=0)\n",
    "\n",
    "# print the first 5 rows of the data\n",
    "print(combined_data.head())\n",
    "\n"
   ]
  }
 ],
 "metadata": {
  "kernelspec": {
   "display_name": "base",
   "language": "python",
   "name": "python3"
  },
  "language_info": {
   "codemirror_mode": {
    "name": "ipython",
    "version": 3
   },
   "file_extension": ".py",
   "mimetype": "text/x-python",
   "name": "python",
   "nbconvert_exporter": "python",
   "pygments_lexer": "ipython3",
   "version": "3.11.2"
  },
  "orig_nbformat": 4
 },
 "nbformat": 4,
 "nbformat_minor": 2
}
