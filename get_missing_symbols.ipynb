{
 "cells": [
  {
   "cell_type": "code",
   "execution_count": null,
   "metadata": {},
   "outputs": [],
   "source": [
    "from alpha_vantage.timeseries import TimeSeries\n",
    "\n",
    "# Insert your API key here\n",
    "api_key = 'V1PFJOMDHX76TFF8'\n",
    "\n",
    "# Create an instance of the TimeSeries class with your API key\n",
    "ts = TimeSeries(key=api_key)\n",
    "\n",
    "# Use the get_symbol_search method to search for symbols that match 'S&P 500'\n",
    "symbol_search, _ = ts.get_symbol_search(\"ABS\")\n",
    "\n",
    "# Extract the symbol names from the search results\n",
    "sp500_symbols = [symbol_search.iloc[index, 0] for index in range(symbol_search.shape[0])]\n",
    "\n",
    "# Print the list of S&P 500 symbols\n",
    "print(sp500_symbols)"
   ]
  }
 ],
 "metadata": {
  "language_info": {
   "name": "python"
  },
  "orig_nbformat": 4
 },
 "nbformat": 4,
 "nbformat_minor": 2
}
