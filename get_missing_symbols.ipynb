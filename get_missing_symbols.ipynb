{
 "cells": [
  {
   "cell_type": "code",
   "execution_count": 1,
   "metadata": {},
   "outputs": [
    {
     "name": "stdout",
     "output_type": "stream",
     "text": [
      "Error processing BDK: Thank you for using Alpha Vantage! Our standard API call frequency is 5 calls per minute and 500 calls per day. Please visit https://www.alphavantage.co/premium/ if you would like to target a higher API call frequency. Thank you!\n",
      "Error processing CBB: Thank you for using Alpha Vantage! Our standard API call frequency is 5 calls per minute and 500 calls per day. Please visit https://www.alphavantage.co/premium/ if you would like to target a higher API call frequency. Thank you!\n"
     ]
    }
   ],
   "source": [
    "from alpha_vantage.timeseries import TimeSeries\n",
    "import pandas as pd\n",
    "import time\n",
    "\n",
    "# Insert your API key here\n",
    "api_key = 'V1PFJOMDHX76TFF8'\n",
    "\n",
    "# Create an instance of the TimeSeries class with your API key\n",
    "ts = TimeSeries(key=api_key)\n",
    "\n",
    "# read missing SP500 components \n",
    "missing_symbols = pd.read_csv(\"missing_symbols.csv\")\n",
    "missing_symbols = missing_symbols[\"Symbols\"].tolist()\n",
    "\n",
    "# Iterate over missing_symbols\n",
    "sp500_symbols = []\n",
    "for ticker in missing_symbols:\n",
    "    try:\n",
    "        print(missing_symbols.index(ticker), ticker)\n",
    "        # Use the get_symbol_search method to search for symbols that match 'S&P 500'\n",
    "        symbol_search, _ = ts.get_symbol_search(ticker)\n",
    "        # Extract the symbol names from the search results\n",
    "        symbol = [symbol_search.iloc[index, 0] for index in range(symbol_search.shape[0])]\n",
    "        # Append to sp500_symbols list\n",
    "        sp500_symbols.append(symbol_search)\n",
    "    except ValueError as e:\n",
    "        error_message = str(e)\n",
    "        if \"Invalid API call\" in error_message:\n",
    "            print(f\"Error processing {ticker}: {error_message}\")\n",
    "            print(ticker + \": \" + \"not found\")\n",
    "            # do not append the ticker back to the list\n",
    "            continue\n",
    "        else:\n",
    "            print(f\"Error processing {ticker}: {error_message}\")\n",
    "            # append the ticker back to the list\n",
    "            missing_symbols.append(ticker)\n",
    "            # wait 1 minute before trying again\n",
    "            time.sleep(60)  \n",
    "\n",
    "# Print the list of S&P 500 symbols\n",
    "print(sp500_symbols)"
   ]
  }
 ],
 "metadata": {
  "kernelspec": {
   "display_name": "Python 3",
   "language": "python",
   "name": "python3"
  },
  "language_info": {
   "codemirror_mode": {
    "name": "ipython",
    "version": 3
   },
   "file_extension": ".py",
   "mimetype": "text/x-python",
   "name": "python",
   "nbconvert_exporter": "python",
   "pygments_lexer": "ipython3",
   "version": "3.11.2"
  },
  "orig_nbformat": 4
 },
 "nbformat": 4,
 "nbformat_minor": 2
}
