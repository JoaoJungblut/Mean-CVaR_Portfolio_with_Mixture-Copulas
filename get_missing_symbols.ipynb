{
 "cells": [
  {
   "cell_type": "code",
   "execution_count": 1,
   "metadata": {},
   "outputs": [
    {
     "name": "stdout",
     "output_type": "stream",
     "text": [
      "['ABSI', 'ABSAX', 'ABSCX', 'ABSGX', 'ABSIX', 'ABSKX', 'ABS2.FRK', 'ABS2.DEX', 'ABSLAMC.BSE', 'ABSLBANETF.BSE']\n"
     ]
    }
   ],
   "source": [
    "from alpha_vantage.timeseries import TimeSeries\n",
    "\n",
    "# Insert your API key here\n",
    "api_key = 'V1PFJOMDHX76TFF8'\n",
    "\n",
    "# Create an instance of the TimeSeries class with your API key\n",
    "ts = TimeSeries(key=api_key)\n",
    "\n",
    "# Use the get_symbol_search method to search for symbols that match 'S&P 500'\n",
    "symbol_search, _ = ts.get_symbol_search(\"ABS\")\n",
    "\n",
    "# Extract the symbol names from the search results\n",
    "sp500_symbols = [symbol_search.iloc[index, 0] for index in range(symbol_search.shape[0])]\n",
    "\n",
    "# Print the list of S&P 500 symbols\n",
    "print(sp500_symbols)"
   ]
  }
 ],
 "metadata": {
  "kernelspec": {
   "display_name": "Python 3",
   "language": "python",
   "name": "python3"
  },
  "language_info": {
   "codemirror_mode": {
    "name": "ipython",
    "version": 3
   },
   "file_extension": ".py",
   "mimetype": "text/x-python",
   "name": "python",
   "nbconvert_exporter": "python",
   "pygments_lexer": "ipython3",
   "version": "3.11.2"
  },
  "orig_nbformat": 4
 },
 "nbformat": 4,
 "nbformat_minor": 2
}
